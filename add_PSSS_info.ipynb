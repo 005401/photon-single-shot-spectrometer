{
 "cells": [
  {
   "cell_type": "code",
   "execution_count": 1,
   "metadata": {},
   "outputs": [],
   "source": [
    "import numpy as np\n",
    "import h5py"
   ]
  },
  {
   "cell_type": "markdown",
   "metadata": {},
   "source": [
    "### get PSSS center and FWHM"
   ]
  },
  {
   "cell_type": "code",
   "execution_count": 2,
   "metadata": {},
   "outputs": [],
   "source": [
    "def get_PSS_data(bsread_file):\n",
    "    channel_PSSS_center = \"/data/SARFE10-PSSS059:FPICTURE.center/\"\n",
    "    channel_PSSS_fwhm = \"/data/SARFE10-PSSS059:FPICTURE.fwhm/\"\n",
    "    with h5py.File(bsread_file, \"r\") as bsread:\n",
    "        PSSS_center_data = bsread[f'{channel_PSSS_center}/data'][:]\n",
    "        PSSS_center_pulseid = bsread[f'{channel_PSSS_center}/pulse_id'][:]\n",
    "        PSSS_fwhm_data = bsread[f'{channel_PSSS_fwhm}/data'][:]\n",
    "        PSSS_fwhm_pulseid = bsread[f'{channel_PSSS_fwhm}/pulse_id'][:]\n",
    "    return PSSS_center_data, PSSS_center_pulseid, PSSS_fwhm_data, PSSS_fwhm_pulseid"
   ]
  },
  {
   "cell_type": "markdown",
   "metadata": {},
   "source": [
    "### find pulse_id's of the hits from hitrate file"
   ]
  },
  {
   "cell_type": "code",
   "execution_count": 3,
   "metadata": {},
   "outputs": [],
   "source": [
    "def get_online_hits(onlinehits_file):\n",
    "    onlinehits_thresh = 10\n",
    "    hits_online = []\n",
    "    if onlinehits_file != None:\n",
    "        OUTPUT_ONLINEHITS = True\n",
    "        hits_file = open(onlinehits_file,'r')\n",
    "        all_lines = hits_file.read().splitlines()\n",
    "        for line in all_lines:\n",
    "            (pulseid, frame, n_peaks_online, frame_good) = line.split()\n",
    "            n_peaks_online = int(n_peaks_online)\n",
    "            if n_peaks_online >= onlinehits_thresh:\n",
    "                pulseid = int(pulseid)\n",
    "                hits_online.append(pulseid)\n",
    "        hits_file.close()\n",
    "#    print(len(hits_online), \" hits found online\")\n",
    "    return hits_online"
   ]
  },
  {
   "cell_type": "markdown",
   "metadata": {},
   "source": [
    "### Order of frames(pulseid's) in hitrate file and raw file may be different, so order list  according to RAW file"
   ]
  },
  {
   "cell_type": "code",
   "execution_count": 4,
   "metadata": {},
   "outputs": [],
   "source": [
    "def get_hits_online_sorted(data_file, hits_online=[]):\n",
    "    hits_online_sorted = []\n",
    "    with h5py.File(data_file, \"r\") as original_file:\n",
    "        pulse_id_original = original_file[\"/data/JF06T32V01/pulse_id\"][:]\n",
    "        is_good_frame = original_file[\"/data/JF06T32V01/is_good_frame\"][:]\n",
    "        for i in range(len(pulse_id_original)):\n",
    "            if not is_good_frame[i]:\n",
    "                continue\n",
    "            pulse_id = pulse_id_original[i][0]\n",
    "            if pulse_id not in hits_online:\n",
    "                continue\n",
    "            hits_online_sorted.append(pulse_id)\n",
    "    return hits_online_sorted        "
   ]
  },
  {
   "cell_type": "markdown",
   "metadata": {},
   "source": [
    "### loop over converted file, find corresponding PSSS values via pulse_id, create new file"
   ]
  },
  {
   "cell_type": "code",
   "execution_count": 5,
   "metadata": {},
   "outputs": [],
   "source": [
    "def produce_new_data_file(data_converted_file, hits_online_sorted, \n",
    "                         PSSS_center_data, PSSS_center_pulseid, PSSS_fwhm_data, PSSS_fwhm_pulseid):\n",
    "    data_file_PSSS = data_converted_file[:-2] + \"PSSS.h5\"\n",
    "    new_data_file = h5py.File(data_file_PSSS, \"w\")\n",
    "    with h5py.File(data_converted_file, \"r\") as converted_file:\n",
    "        images = converted_file[\"/data/data\"]\n",
    "        if len(images) != len(hits_online_sorted):\n",
    "            print(f\"Something very bad, stop. {len(images)} {len(hits_online_sorted)}\")\n",
    "        data_dset = new_data_file.create_dataset(\"/data/data\", images.shape, dtype='float32')\n",
    "        PSSS_center_dset = new_data_file.create_dataset(\"/PSSS/photon_energy_eV/mean\", (len(images),), dtype='float32')\n",
    "        PSSS_fwhm_dset = new_data_file.create_dataset(\"/PSSS/photon_energy_eV/width\", (len(images),), dtype='float32')\n",
    "        pulseid_dset = new_data_file.create_dataset(\"/data/pulse_id\", (len(images),), dtype=np.uint64)\n",
    "        for i in range(len(images)):    \n",
    "            pulse_id = hits_online_sorted[i]\n",
    "            image = images[i]\n",
    "            if pulse_id in PSSS_center_pulseid:\n",
    "                PSSS_center = PSSS_center_data[np.where(PSSS_center_pulseid == pulse_id)]\n",
    "            else:\n",
    "                print(f'{pulse_id} has no PSSS_center data, take some default value')\n",
    "                print(PSSS_center_pulseid)\n",
    "                PSSS_center = 5991.52\n",
    "            if pulse_id in PSSS_fwhm_pulseid:\n",
    "                PSSS_fwhm = PSSS_fwhm_data[np.where(PSSS_fwhm_pulseid == pulse_id)]\n",
    "            else:\n",
    "                print(f'{pulse_id} has no PSSS fwhm data, take some default value')\n",
    "            data_dset[i] = image\n",
    "            PSSS_center_dset[i] = PSSS_center\n",
    "            PSSS_fwhm_dset[i] = PSSS_fwhm\n",
    "            pulseid_dset[i] = pulse_id\n",
    "    new_data_file.close()        "
   ]
  },
  {
   "cell_type": "code",
   "execution_count": 6,
   "metadata": {},
   "outputs": [],
   "source": [
    "def add_PSSS_to_file(sample, run):\n",
    "    bsread_file = f\"/sf/alvra/data/p17805/raw/{sample}/run_000{run}.BSREAD.h5\"\n",
    "    onlinehits_file = f\"/das/work/p17/p17805/res/jungfrau/hitrate/{sample}/run_000{run}.hitrate\"\n",
    "    data_file = f\"/sf/alvra/data/p17805/raw/{sample}/run_000{run}.JF06T32V01.h5\"\n",
    "    data_converted_file = f\"/das/work/p17/p17805/res/{sample}/data/dark/run_000{run}.JF06T32V01.h5\"\n",
    "    \n",
    "    PSSS_center_data, PSSS_center_pulseid, PSSS_fwhm_data, PSSS_fwhm_pulseid = get_PSS_data(bsread_file)\n",
    "    \n",
    "    hits_online = get_online_hits(onlinehits_file)\n",
    "    \n",
    "    hits_online_sorted = get_hits_online_sorted(data_file, hits_online)\n",
    "    \n",
    "    produce_new_data_file(data_converted_file, hits_online_sorted, \n",
    "                         PSSS_center_data, PSSS_center_pulseid, PSSS_fwhm_data, PSSS_fwhm_pulseid)"
   ]
  },
  {
   "cell_type": "code",
   "execution_count": 7,
   "metadata": {},
   "outputs": [
    {
     "name": "stdout",
     "output_type": "stream",
     "text": [
      "113\n",
      "114\n",
      "115\n",
      "116\n",
      "117\n",
      "118\n",
      "119\n",
      "120\n",
      "121\n",
      "122\n",
      "123\n",
      "124\n",
      "125\n",
      "126\n",
      "127\n",
      "128\n",
      "129\n",
      "130\n",
      "131\n",
      "132\n",
      "133\n"
     ]
    }
   ],
   "source": [
    "sample=\"thaumatin8\"\n",
    "for run in range(113,134):\n",
    "    print(run)\n",
    "    add_PSSS_to_file(sample, run)"
   ]
  },
  {
   "cell_type": "code",
   "execution_count": 7,
   "metadata": {},
   "outputs": [
    {
     "name": "stdout",
     "output_type": "stream",
     "text": [
      "134\n",
      "135\n",
      "136\n",
      "137\n",
      "138\n",
      "139\n",
      "140\n",
      "141\n",
      "142\n",
      "143\n",
      "144\n",
      "145\n",
      "146\n",
      "147\n"
     ]
    }
   ],
   "source": [
    "sample=\"thaumatin10\"\n",
    "for run in range(134,148):\n",
    "    print(run)\n",
    "    add_PSSS_to_file(sample, run)"
   ]
  },
  {
   "cell_type": "code",
   "execution_count": 7,
   "metadata": {},
   "outputs": [],
   "source": [
    "sample=\"thaumatin10\"\n",
    "add_PSSS_to_file(sample, 140)"
   ]
  },
  {
   "cell_type": "code",
   "execution_count": null,
   "metadata": {},
   "outputs": [],
   "source": []
  }
 ],
 "metadata": {
  "kernelspec": {
   "display_name": "Python [conda env:alvra-analysis]",
   "language": "python",
   "name": "conda-env-alvra-analysis-py"
  },
  "language_info": {
   "codemirror_mode": {
    "name": "ipython",
    "version": 3
   },
   "file_extension": ".py",
   "mimetype": "text/x-python",
   "name": "python",
   "nbconvert_exporter": "python",
   "pygments_lexer": "ipython3",
   "version": "3.6.7"
  }
 },
 "nbformat": 4,
 "nbformat_minor": 2
}
